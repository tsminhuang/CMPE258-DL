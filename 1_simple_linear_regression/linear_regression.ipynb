{
 "cells": [
  {
   "cell_type": "markdown",
   "metadata": {},
   "source": [
    "## Simple Linear Regression"
   ]
  },
  {
   "cell_type": "code",
   "execution_count": 1,
   "metadata": {},
   "outputs": [],
   "source": [
    "import numpy as np\n",
    "import pandas as pd\n",
    "from sklearn.preprocessing import StandardScaler\n",
    "from sklearn.metrics import mean_squared_error\n",
    "\n",
    "import matplotlib.pyplot as plt\n",
    "%matplotlib inline"
   ]
  },
  {
   "cell_type": "markdown",
   "metadata": {},
   "source": [
    "### Help function"
   ]
  },
  {
   "cell_type": "code",
   "execution_count": 2,
   "metadata": {},
   "outputs": [],
   "source": [
    "def rmse(target, pred):\n",
    "    return np.sqrt(mean_squared_error(target, pred))\n",
    "\n",
    "def computeCost(X, y, w):\n",
    "    y_hat = X @ (w)\n",
    "    cost = ((y_hat - y)**2).mean() / 2\n",
    "    return cost"
   ]
  },
  {
   "cell_type": "markdown",
   "metadata": {},
   "source": [
    "### Linear Regression from scratch implementation"
   ]
  },
  {
   "cell_type": "code",
   "execution_count": 3,
   "metadata": {},
   "outputs": [],
   "source": [
    "def linear_regrssion_one_var(X, y, alpha, iterations, eps=1e-6):\n",
    "    return linear_regression_nomatrix(X, y, alpha, iterations, eps)\n",
    "\n",
    "def linear_regrssion_two_var(X, y, alpha, iterations, eps=1e-6):\n",
    "    return linear_regression_nomatrix(X, y, alpha, iterations, eps)\n",
    "\n",
    "def linear_regression_nomatrix(X, y, alpha, iterations, eps=1e-6):\n",
    "    m, n = X.shape\n",
    "    w = np.zeros(n)\n",
    "    grad = np.zeros(n)\n",
    "    cost = np.zeros(iterations)\n",
    "    \n",
    "    cost[0] = computeCost(X, y, w)\n",
    "    for n_iter in np.arange(1, iterations):    \n",
    "        y_hat = X @ (w)\n",
    "        err = y_hat - y\n",
    "        \n",
    "        # compute grad for each feature\n",
    "        for i in range(n):\n",
    "            grad[i] = np.sum(err * X[:, i]) / m \n",
    "        w = w - alpha * grad\n",
    "        \n",
    "        cost[n_iter] = computeCost(X, y, w)\n",
    "        #print('cost[%4d]: %.8f' % (n_iter, cost[n_iter]))\n",
    "        if np.abs(cost[n_iter - 1] - cost[n_iter]) < eps:\n",
    "            cost = cost[:n_iter]\n",
    "            break\n",
    "    \n",
    "    return w, cost"
   ]
  },
  {
   "cell_type": "markdown",
   "metadata": {},
   "source": [
    "### Normal Equation implementation"
   ]
  },
  {
   "cell_type": "code",
   "execution_count": 4,
   "metadata": {},
   "outputs": [],
   "source": [
    "def normalEquation(X, y):\n",
    "    XtX = X.T @ (X)\n",
    "    XtX_inv = np.linalg.inv(XtX)    \n",
    "    Xty = X.T @ (y)\n",
    "    w = XtX_inv @ (Xty)\n",
    "    \n",
    "    return w"
   ]
  },
  {
   "cell_type": "markdown",
   "metadata": {},
   "source": [
    "### Linear regression multi-variable matrix implementation"
   ]
  },
  {
   "cell_type": "code",
   "execution_count": 5,
   "metadata": {},
   "outputs": [],
   "source": [
    "def linear_regression_multi(X, y, alpha, iterations, eps=1e-6):\n",
    "    m = len(y)\n",
    "    w = np.zeros(X.shape[1])\n",
    "    \n",
    "    cost = np.zeros(iterations)\n",
    "    cost[0] = computeCost(X, y, w)\n",
    "    for n_iter in np.arange(1, iterations):   \n",
    "        \n",
    "        y_hat = X @ (w)\n",
    "        err = y_hat - y\n",
    "        grad = X.T @ (err) / m\n",
    "        \n",
    "        w = w - alpha * grad\n",
    "        \n",
    "        cost[n_iter] = computeCost(X, y, w)\n",
    "        #if n_iter % 50 == 0:\n",
    "        #    print('cost[%4d]: %.8f' % (n_iter, cost[n_iter]))\n",
    "        if np.abs(cost[n_iter - 1] - cost[n_iter]) < eps:\n",
    "            cost = cost[:n_iter]\n",
    "            break\n",
    "    \n",
    "    return w, cost"
   ]
  },
  {
   "cell_type": "markdown",
   "metadata": {},
   "source": [
    "## 1. Linear regression with one variable from scratch"
   ]
  },
  {
   "cell_type": "code",
   "execution_count": 6,
   "metadata": {},
   "outputs": [
    {
     "data": {
      "text/html": [
       "<div>\n",
       "<style scoped>\n",
       "    .dataframe tbody tr th:only-of-type {\n",
       "        vertical-align: middle;\n",
       "    }\n",
       "\n",
       "    .dataframe tbody tr th {\n",
       "        vertical-align: top;\n",
       "    }\n",
       "\n",
       "    .dataframe thead th {\n",
       "        text-align: right;\n",
       "    }\n",
       "</style>\n",
       "<table border=\"1\" class=\"dataframe\">\n",
       "  <thead>\n",
       "    <tr style=\"text-align: right;\">\n",
       "      <th></th>\n",
       "      <th>population_of_city</th>\n",
       "      <th>food_truck_profit</th>\n",
       "    </tr>\n",
       "  </thead>\n",
       "  <tbody>\n",
       "    <tr>\n",
       "      <th>0</th>\n",
       "      <td>6.1101</td>\n",
       "      <td>17.5920</td>\n",
       "    </tr>\n",
       "    <tr>\n",
       "      <th>1</th>\n",
       "      <td>5.5277</td>\n",
       "      <td>9.1302</td>\n",
       "    </tr>\n",
       "    <tr>\n",
       "      <th>2</th>\n",
       "      <td>8.5186</td>\n",
       "      <td>13.6620</td>\n",
       "    </tr>\n",
       "    <tr>\n",
       "      <th>3</th>\n",
       "      <td>7.0032</td>\n",
       "      <td>11.8540</td>\n",
       "    </tr>\n",
       "    <tr>\n",
       "      <th>4</th>\n",
       "      <td>5.8598</td>\n",
       "      <td>6.8233</td>\n",
       "    </tr>\n",
       "  </tbody>\n",
       "</table>\n",
       "</div>"
      ],
      "text/plain": [
       "   population_of_city  food_truck_profit\n",
       "0              6.1101            17.5920\n",
       "1              5.5277             9.1302\n",
       "2              8.5186            13.6620\n",
       "3              7.0032            11.8540\n",
       "4              5.8598             6.8233"
      ]
     },
     "execution_count": 6,
     "metadata": {},
     "output_type": "execute_result"
    }
   ],
   "source": [
    "df = pd.read_csv('ex1data1.csv', names=['population_of_city' ,'food_truck_profit'])\n",
    "df.head()"
   ]
  },
  {
   "cell_type": "markdown",
   "metadata": {},
   "source": [
    "### Visualize data"
   ]
  },
  {
   "cell_type": "code",
   "execution_count": 7,
   "metadata": {},
   "outputs": [
    {
     "data": {
      "text/plain": [
       "<matplotlib.axes._subplots.AxesSubplot at 0x1a0a0335f8>"
      ]
     },
     "execution_count": 7,
     "metadata": {},
     "output_type": "execute_result"
    },
    {
     "data": {
      "image/png": "[encoded data removed]",
      "text/plain": [
       "<Figure size 432x288 with 1 Axes>"
      ]
     },
     "metadata": {},
     "output_type": "display_data"
    }
   ],
   "source": [
    "df.plot.scatter(x='population_of_city', y='food_truck_profit')"
   ]
  },
  {
   "cell_type": "code",
   "execution_count": 8,
   "metadata": {},
   "outputs": [],
   "source": [
    "# prepare data\n",
    "df = pd.read_csv('ex1data1.csv', names=['population_of_city' ,'food_truck_profit'])\n",
    "X, y = df.iloc[:, 0].values, df.iloc[:, -1].values\n",
    "\n",
    "# add bias term for X \n",
    "bias = np.ones([len(y), 1])\n",
    "X = X.reshape([-1, 1])\n",
    "X = np.hstack([bias, X])"
   ]
  },
  {
   "cell_type": "code",
   "execution_count": 9,
   "metadata": {},
   "outputs": [
    {
     "name": "stdout",
     "output_type": "stream",
     "text": [
      "\n",
      "------------------------------------------------------------------\n",
      "Weights: [-3.84072806  1.18750299]\n",
      "RMSE(gd one var, alpha: 1e-02, iters: 2372): 2.9924, cost: 4.4772\n",
      "\n",
      "------------------------------------------------------------------\n",
      "Weights: [-2.28139507  1.03085108]\n",
      "RMSE(gd one var, alpha: 1e-03, iters: 5000): 3.0706, cost: 4.7142\n",
      "\n",
      "------------------------------------------------------------------\n",
      "Weights: [-0.2628458   0.82806591]\n",
      "RMSE(gd one var, alpha: 1e-04, iters: 5000): 3.3700, cost: 5.6785\n",
      "\n",
      "------------------------------------------------------------------\n",
      "Weights: [0.04276212 0.78423779]\n",
      "RMSE(gd one var, alpha: 1e-05, iters: 5000): 3.4343, cost: 5.8971\n"
     ]
    }
   ],
   "source": [
    "learning_rates = [np.power(10.0, p) for p in np.arange(-2, -6, -1)]\n",
    "for alpha in learning_rates:\n",
    "    w, cost = linear_regrssion_one_var(X, y, alpha, 5000)\n",
    "    y_pred = X @ (w)\n",
    "    print('\\n------------------------------------------------------------------')\n",
    "    print('Weights:', w.ravel())\n",
    "    print(\"RMSE(gd one var, alpha: %.e, iters: %4d): %.4f, cost: %.4f\" % (alpha, len(cost), rmse(y, y_pred), cost[-1]))"
   ]
  },
  {
   "cell_type": "markdown",
   "metadata": {},
   "source": [
    "## 2. Linear regression with two variables from scratch"
   ]
  },
  {
   "cell_type": "code",
   "execution_count": 10,
   "metadata": {},
   "outputs": [
    {
     "data": {
      "text/html": [
       "<div>\n",
       "<style scoped>\n",
       "    .dataframe tbody tr th:only-of-type {\n",
       "        vertical-align: middle;\n",
       "    }\n",
       "\n",
       "    .dataframe tbody tr th {\n",
       "        vertical-align: top;\n",
       "    }\n",
       "\n",
       "    .dataframe thead th {\n",
       "        text-align: right;\n",
       "    }\n",
       "</style>\n",
       "<table border=\"1\" class=\"dataframe\">\n",
       "  <thead>\n",
       "    <tr style=\"text-align: right;\">\n",
       "      <th></th>\n",
       "      <th>house_size</th>\n",
       "      <th>bedrooms_num</th>\n",
       "      <th>house_price</th>\n",
       "    </tr>\n",
       "  </thead>\n",
       "  <tbody>\n",
       "    <tr>\n",
       "      <th>0</th>\n",
       "      <td>2104</td>\n",
       "      <td>3</td>\n",
       "      <td>399900.0</td>\n",
       "    </tr>\n",
       "    <tr>\n",
       "      <th>1</th>\n",
       "      <td>1600</td>\n",
       "      <td>3</td>\n",
       "      <td>329900.0</td>\n",
       "    </tr>\n",
       "    <tr>\n",
       "      <th>2</th>\n",
       "      <td>2400</td>\n",
       "      <td>3</td>\n",
       "      <td>369000.0</td>\n",
       "    </tr>\n",
       "    <tr>\n",
       "      <th>3</th>\n",
       "      <td>1416</td>\n",
       "      <td>2</td>\n",
       "      <td>232000.0</td>\n",
       "    </tr>\n",
       "    <tr>\n",
       "      <th>4</th>\n",
       "      <td>3000</td>\n",
       "      <td>4</td>\n",
       "      <td>539900.0</td>\n",
       "    </tr>\n",
       "  </tbody>\n",
       "</table>\n",
       "</div>"
      ],
      "text/plain": [
       "   house_size  bedrooms_num  house_price\n",
       "0        2104             3     399900.0\n",
       "1        1600             3     329900.0\n",
       "2        2400             3     369000.0\n",
       "3        1416             2     232000.0\n",
       "4        3000             4     539900.0"
      ]
     },
     "execution_count": 10,
     "metadata": {},
     "output_type": "execute_result"
    }
   ],
   "source": [
    "df = pd.read_csv('ex1data2.csv', names=['house_size', 'bedrooms_num', 'house_price'])\n",
    "df.head()"
   ]
  },
  {
   "cell_type": "markdown",
   "metadata": {},
   "source": [
    "### Visualize data correlation"
   ]
  },
  {
   "cell_type": "code",
   "execution_count": 11,
   "metadata": {},
   "outputs": [
    {
     "data": {
      "image/png": "[encoded data removed]",
      "text/plain": [
       "<Figure size 720x720 with 9 Axes>"
      ]
     },
     "metadata": {},
     "output_type": "display_data"
    }
   ],
   "source": [
    "# plot scatter matrix to visualize correlation between attribute\n",
    "from pandas.plotting import scatter_matrix\n",
    "scatter_matrix(df, figsize=(10, 10))\n",
    "plt.show()"
   ]
  },
  {
   "cell_type": "code",
   "execution_count": 12,
   "metadata": {},
   "outputs": [
    {
     "name": "stderr",
     "output_type": "stream",
     "text": [
      "/Users/tsungmin/anaconda3/lib/python3.6/site-packages/sklearn/utils/validation.py:475: DataConversionWarning: Data with input dtype int64 was converted to float64 by StandardScaler.\n",
      "  warnings.warn(msg, DataConversionWarning)\n"
     ]
    }
   ],
   "source": [
    "# prepare data\n",
    "df = pd.read_csv('ex1data2.csv', names=['house_size', 'bedrooms_num', 'house_price'])\n",
    "X, y = df.iloc[:, :-1].values, df.iloc[:, -1].values\n",
    "\n",
    "# normalize \n",
    "scaler = StandardScaler()\n",
    "scaler.fit(X)\n",
    "X_norm = scaler.transform(X)\n",
    "\n",
    "# add bias term for X \n",
    "bias = np.ones([len(y), 1])\n",
    "X_norm = np.hstack([bias, X_norm])"
   ]
  },
  {
   "cell_type": "code",
   "execution_count": 13,
   "metadata": {},
   "outputs": [
    {
     "name": "stdout",
     "output_type": "stream",
     "text": [
      "\n",
      "------------------------------------------------------------------\n",
      "Weights: [340412.76595744 109447.74413032  -6578.25540162]\n",
      "RMSE(gd two var, alpha: 1e-02, iters: 3359): 63926.2149 cost: 2043280477.3928\n",
      "\n",
      "------------------------------------------------------------------\n",
      "Weights: [ 3.38122523e+05  1.03000094e+05 -1.72570940e+02]\n",
      "RMSE(gd two var, alpha: 1e-03, iters: 5000): 64250.7299 cost: 2064078148.2578\n",
      "\n",
      "------------------------------------------------------------------\n",
      "Weights: [133926.49986917  39309.53903424  16398.69652625]\n",
      "RMSE(gd two var, alpha: 1e-04, iters: 5000): 224422.8264 cost: 25182802501.1442\n",
      "\n",
      "------------------------------------------------------------------\n",
      "Weights: [16598.96931827  5120.84008601  2596.44851018]\n",
      "RMSE(gd two var, alpha: 1e-05, iters: 5000): 344729.2419 cost: 59419125098.6200\n"
     ]
    }
   ],
   "source": [
    "learning_rates = [np.power(10.0, p) for p in np.arange(-2, -6, -1)]\n",
    "for alpha in learning_rates:\n",
    "    w, cost = linear_regrssion_two_var(X_norm, y, alpha, 5000)\n",
    "    y_pred = X_norm @ (w)\n",
    "    print('\\n------------------------------------------------------------------')\n",
    "    print('Weights:', w.ravel())\n",
    "    print(\"RMSE(gd two var, alpha: %.e, iters: %4d): %.4f cost: %.4f\" %\n",
    "          (alpha, len(cost), rmse(y, y_pred), cost[-1]))"
   ]
  },
  {
   "cell_type": "markdown",
   "metadata": {},
   "source": [
    "## Linear regression with two variables using matrix"
   ]
  },
  {
   "cell_type": "code",
   "execution_count": 14,
   "metadata": {},
   "outputs": [
    {
     "name": "stderr",
     "output_type": "stream",
     "text": [
      "/Users/tsungmin/anaconda3/lib/python3.6/site-packages/sklearn/utils/validation.py:475: DataConversionWarning: Data with input dtype int64 was converted to float64 by StandardScaler.\n",
      "  warnings.warn(msg, DataConversionWarning)\n"
     ]
    }
   ],
   "source": [
    "# prepare data\n",
    "df = pd.read_csv('ex1data2.csv', names=['house_size', 'bedrooms_num', 'house_price'])\n",
    "X, y = df.iloc[:, :-1].values, df.iloc[:, -1].values\n",
    "\n",
    "# normalize \n",
    "scaler = StandardScaler()\n",
    "scaler.fit(X)\n",
    "X_norm = scaler.transform(X)\n",
    "\n",
    "# add bias term for X \n",
    "bias = np.ones([len(y), 1])\n",
    "X_norm = np.hstack([bias, X_norm])"
   ]
  },
  {
   "cell_type": "code",
   "execution_count": 15,
   "metadata": {},
   "outputs": [
    {
     "name": "stdout",
     "output_type": "stream",
     "text": [
      "\n",
      "------------------------------------------------------------------\n",
      "Weights: [340412.76595744 109447.74413032  -6578.25540162]\n",
      "RMSE(gd two var, alpha: 1e-02, iters: 3359): 63926.2149 cost: 2043280477.3928\n",
      "\n",
      "------------------------------------------------------------------\n",
      "Weights: [ 3.38122523e+05  1.03000094e+05 -1.72570940e+02]\n",
      "RMSE(gd two var, alpha: 1e-03, iters: 5000): 64250.7299 cost: 2064078148.2578\n",
      "\n",
      "------------------------------------------------------------------\n",
      "Weights: [133926.49986917  39309.53903424  16398.69652625]\n",
      "RMSE(gd two var, alpha: 1e-04, iters: 5000): 224422.8264 cost: 25182802501.1442\n",
      "\n",
      "------------------------------------------------------------------\n",
      "Weights: [16598.96931827  5120.84008601  2596.44851018]\n",
      "RMSE(gd two var, alpha: 1e-05, iters: 5000): 344729.2419 cost: 59419125098.6200\n"
     ]
    }
   ],
   "source": [
    "learning_rates = [np.power(10.0, p) for p in np.arange(-2, -6, -1)]\n",
    "for alpha in learning_rates:\n",
    "    w, cost = linear_regression_multi(X_norm, y, alpha, 5000)\n",
    "    y_pred = X_norm @ (w)\n",
    "    print('\\n------------------------------------------------------------------')\n",
    "    print('Weights:', w.ravel())\n",
    "    print(\"RMSE(gd two var, alpha: %.e, iters: %4d): %.4f cost: %.4f\" %\n",
    "          (alpha, len(cost), rmse(y, y_pred), cost[-1]))"
   ]
  },
  {
   "cell_type": "markdown",
   "metadata": {},
   "source": [
    "## Linear regression with two variables using Normal equation"
   ]
  },
  {
   "cell_type": "code",
   "execution_count": 16,
   "metadata": {},
   "outputs": [],
   "source": [
    "# Drop unnamed feature in X\n",
    "df = pd.read_csv('ex1data2.csv', names=['house_size', 'bedrooms_num', 'house_price'])\n",
    "X = df.iloc[:, :-1].values\n",
    "y = df.iloc[:, -1].values\n",
    "\n",
    "# add bias term for x\n",
    "bias = np.ones([len(y), 1])\n",
    "X = np.hstack([bias, X])"
   ]
  },
  {
   "cell_type": "code",
   "execution_count": 17,
   "metadata": {},
   "outputs": [
    {
     "name": "stdout",
     "output_type": "stream",
     "text": [
      "Weights: [89597.765961     139.21063465 -8737.91542019]\n",
      "RMSE(Normal Equation): 63926.2149 cost: 2043280477.3926\n"
     ]
    }
   ],
   "source": [
    "w = normalEquation(X, y)\n",
    "\n",
    "# predict \n",
    "y_pred = X @ (w)\n",
    "print('Weights:', w.ravel())\n",
    "print(\"RMSE(Normal Equation): %.4f cost: %.4f\" % (rmse(y[:], y_pred[:]), computeCost(X, y, w)))"
   ]
  },
  {
   "cell_type": "markdown",
   "metadata": {},
   "source": [
    "## 3. Linear regression with multiple variables\n",
    "\n"
   ]
  },
  {
   "cell_type": "code",
   "execution_count": 18,
   "metadata": {},
   "outputs": [
    {
     "data": {
      "text/html": [
       "<div>\n",
       "<style scoped>\n",
       "    .dataframe tbody tr th:only-of-type {\n",
       "        vertical-align: middle;\n",
       "    }\n",
       "\n",
       "    .dataframe tbody tr th {\n",
       "        vertical-align: top;\n",
       "    }\n",
       "\n",
       "    .dataframe thead th {\n",
       "        text-align: right;\n",
       "    }\n",
       "</style>\n",
       "<table border=\"1\" class=\"dataframe\">\n",
       "  <thead>\n",
       "    <tr style=\"text-align: right;\">\n",
       "      <th></th>\n",
       "      <th>Unnamed: 0</th>\n",
       "      <th>MedInc</th>\n",
       "      <th>HouseAge</th>\n",
       "      <th>AveRooms</th>\n",
       "      <th>AveBedrms</th>\n",
       "      <th>Population</th>\n",
       "      <th>AveOccup</th>\n",
       "      <th>Latitude</th>\n",
       "      <th>Longitude</th>\n",
       "      <th>price</th>\n",
       "    </tr>\n",
       "  </thead>\n",
       "  <tbody>\n",
       "    <tr>\n",
       "      <th>0</th>\n",
       "      <td>0</td>\n",
       "      <td>8.3252</td>\n",
       "      <td>41.0</td>\n",
       "      <td>6.984127</td>\n",
       "      <td>1.023810</td>\n",
       "      <td>322.0</td>\n",
       "      <td>2.555556</td>\n",
       "      <td>37.88</td>\n",
       "      <td>-122.23</td>\n",
       "      <td>4.526</td>\n",
       "    </tr>\n",
       "    <tr>\n",
       "      <th>1</th>\n",
       "      <td>1</td>\n",
       "      <td>8.3014</td>\n",
       "      <td>21.0</td>\n",
       "      <td>6.238137</td>\n",
       "      <td>0.971880</td>\n",
       "      <td>2401.0</td>\n",
       "      <td>2.109842</td>\n",
       "      <td>37.86</td>\n",
       "      <td>-122.22</td>\n",
       "      <td>3.585</td>\n",
       "    </tr>\n",
       "    <tr>\n",
       "      <th>2</th>\n",
       "      <td>2</td>\n",
       "      <td>7.2574</td>\n",
       "      <td>52.0</td>\n",
       "      <td>8.288136</td>\n",
       "      <td>1.073446</td>\n",
       "      <td>496.0</td>\n",
       "      <td>2.802260</td>\n",
       "      <td>37.85</td>\n",
       "      <td>-122.24</td>\n",
       "      <td>3.521</td>\n",
       "    </tr>\n",
       "    <tr>\n",
       "      <th>3</th>\n",
       "      <td>3</td>\n",
       "      <td>5.6431</td>\n",
       "      <td>52.0</td>\n",
       "      <td>5.817352</td>\n",
       "      <td>1.073059</td>\n",
       "      <td>558.0</td>\n",
       "      <td>2.547945</td>\n",
       "      <td>37.85</td>\n",
       "      <td>-122.25</td>\n",
       "      <td>3.413</td>\n",
       "    </tr>\n",
       "    <tr>\n",
       "      <th>4</th>\n",
       "      <td>4</td>\n",
       "      <td>3.8462</td>\n",
       "      <td>52.0</td>\n",
       "      <td>6.281853</td>\n",
       "      <td>1.081081</td>\n",
       "      <td>565.0</td>\n",
       "      <td>2.181467</td>\n",
       "      <td>37.85</td>\n",
       "      <td>-122.25</td>\n",
       "      <td>3.422</td>\n",
       "    </tr>\n",
       "  </tbody>\n",
       "</table>\n",
       "</div>"
      ],
      "text/plain": [
       "   Unnamed: 0  MedInc  HouseAge  AveRooms  AveBedrms  Population  AveOccup  \\\n",
       "0           0  8.3252      41.0  6.984127   1.023810       322.0  2.555556   \n",
       "1           1  8.3014      21.0  6.238137   0.971880      2401.0  2.109842   \n",
       "2           2  7.2574      52.0  8.288136   1.073446       496.0  2.802260   \n",
       "3           3  5.6431      52.0  5.817352   1.073059       558.0  2.547945   \n",
       "4           4  3.8462      52.0  6.281853   1.081081       565.0  2.181467   \n",
       "\n",
       "   Latitude  Longitude  price  \n",
       "0     37.88    -122.23  4.526  \n",
       "1     37.86    -122.22  3.585  \n",
       "2     37.85    -122.24  3.521  \n",
       "3     37.85    -122.25  3.413  \n",
       "4     37.85    -122.25  3.422  "
      ]
     },
     "execution_count": 18,
     "metadata": {},
     "output_type": "execute_result"
    }
   ],
   "source": [
    "df = pd.read_csv('ex1data3.csv')\n",
    "df.head()"
   ]
  },
  {
   "cell_type": "markdown",
   "metadata": {},
   "source": [
    "## Linear regression with multiple variables"
   ]
  },
  {
   "cell_type": "code",
   "execution_count": 19,
   "metadata": {},
   "outputs": [],
   "source": [
    "# Drop unnamed feature in X\n",
    "df = pd.read_csv('ex1data3.csv')\n",
    "X = df.iloc[:, 1:-1].values\n",
    "y = df.iloc[:, -1].values\n",
    "\n",
    "# Normalize with Std\n",
    "scalar = StandardScaler()\n",
    "scalar.fit(X)\n",
    "X_norm = scalar.transform(X)\n",
    "\n",
    "# add bias term for X_norm\n",
    "bias = np.ones([len(y), 1])\n",
    "X_norm = np.hstack([bias, X_norm])"
   ]
  },
  {
   "cell_type": "code",
   "execution_count": 20,
   "metadata": {},
   "outputs": [
    {
     "name": "stdout",
     "output_type": "stream",
     "text": [
      "\n",
      "------------------------------------------------------------------\n",
      "Weights: [ 2.06855817  0.83923037  0.12309659 -0.27892925  0.31468715 -0.00304713\n",
      " -0.03989874 -0.85918718 -0.83073106]\n",
      "RMSE(gd multi var, alpha: 1e-01, iters:  486): 0.7242 cost: 0.2623\n",
      "\n",
      "------------------------------------------------------------------\n",
      "Weights: [ 2.06855817e+00  8.43328287e-01  1.33184975e-01 -2.69239682e-01\n",
      "  2.99008569e-01  5.69688690e-04 -4.08395229e-02 -7.81797829e-01\n",
      " -7.52975352e-01]\n",
      "RMSE(gd multi var, alpha: 1e-02, iters: 3000): 0.7253 cost: 0.2630\n",
      "\n",
      "------------------------------------------------------------------\n",
      "Weights: [ 1.96562225  0.73892869  0.18314281  0.03222339 -0.0267998   0.01075899\n",
      " -0.03909961 -0.23415434 -0.18704297]\n",
      "RMSE(gd multi var, alpha: 1e-03, iters: 3000): 0.7884 cost: 0.3108\n",
      "\n",
      "------------------------------------------------------------------\n",
      "Weights: [ 0.53600232  0.20376229  0.03531651  0.03907652 -0.01633949 -0.00615532\n",
      " -0.00760765 -0.04361201 -0.01820498]\n",
      "RMSE(gd multi var, alpha: 1e-04, iters: 3000): 1.8343 cost: 1.6824\n",
      "\n",
      "------------------------------------------------------------------\n",
      "Weights: [ 0.06111536  0.02343237  0.00364717  0.00510095 -0.00162653 -0.00082683\n",
      " -0.00081523 -0.00491739 -0.00162007]\n",
      "RMSE(gd multi var, alpha: 1e-05, iters: 3000): 2.3065 cost: 2.6600\n"
     ]
    }
   ],
   "source": [
    "learning_rates = [np.power(10.0, p) for p in np.arange(-1, -6, -1)]\n",
    "for alpha in learning_rates:\n",
    "    w, cost = linear_regression_multi(X_norm, y, alpha, 3000)\n",
    "    y_pred = X_norm @ (w)\n",
    "    print('\\n------------------------------------------------------------------')\n",
    "    print('Weights:', w.ravel())\n",
    "    print(\"RMSE(gd multi var, alpha: %.e, iters: %4d): %.4f cost: %.4f\" % \n",
    "          (alpha, len(cost), rmse(y, y_pred), cost[-1]))"
   ]
  },
  {
   "cell_type": "markdown",
   "metadata": {},
   "source": [
    "## Linear regression with multiple variables using Normal equation"
   ]
  },
  {
   "cell_type": "code",
   "execution_count": 21,
   "metadata": {},
   "outputs": [],
   "source": [
    "# Drop unnamed feature in X\n",
    "df = pd.read_csv('ex1data3.csv')\n",
    "X = df.iloc[:, 1:-1].values\n",
    "y = df.iloc[:, -1].values\n",
    "\n",
    "# add bias term for x\n",
    "bias = np.ones([len(y), 1])\n",
    "X = np.hstack([bias, X])"
   ]
  },
  {
   "cell_type": "code",
   "execution_count": 22,
   "metadata": {},
   "outputs": [
    {
     "name": "stdout",
     "output_type": "stream",
     "text": [
      "Weights: [-3.69419202e+01  4.36693293e-01  9.43577803e-03 -1.07322041e-01\n",
      "  6.45065694e-01 -3.97638942e-06 -3.78654266e-03 -4.21314378e-01\n",
      " -4.34513755e-01]\n",
      "RMSE(Normal Equation): 0.7241 cost: 0.2622\n"
     ]
    }
   ],
   "source": [
    "w = normalEquation(X, y)\n",
    "\n",
    "# predict \n",
    "y_pred = X @ (w)\n",
    "print('Weights:', w.ravel())\n",
    "print(\"RMSE(Normal Equation): %.4f cost: %.4f\" % (rmse(y, y_pred), computeCost(X, y, w)))"
   ]
  },
  {
   "cell_type": "markdown",
   "metadata": {},
   "source": [
    "## Linear regression with multiple variables using scikit-learn linear regression model"
   ]
  },
  {
   "cell_type": "code",
   "execution_count": 23,
   "metadata": {},
   "outputs": [],
   "source": [
    "from sklearn import datasets, linear_model"
   ]
  },
  {
   "cell_type": "code",
   "execution_count": 24,
   "metadata": {},
   "outputs": [],
   "source": [
    "# Drop unnamed feature in X\n",
    "df = pd.read_csv('ex1data3.csv')\n",
    "X = df.iloc[:, 1:-1].values\n",
    "y = df.iloc[:, -1].values"
   ]
  },
  {
   "cell_type": "code",
   "execution_count": 25,
   "metadata": {},
   "outputs": [],
   "source": [
    "# build linear regression model\n",
    "lr = linear_model.LinearRegression()\n",
    "lr.fit(X, y)\n",
    "y_pred = lr.predict(X)"
   ]
  },
  {
   "cell_type": "code",
   "execution_count": 26,
   "metadata": {},
   "outputs": [
    {
     "name": "stdout",
     "output_type": "stream",
     "text": [
      "Weights: [-3.69419202e+01  4.36693293e-01  9.43577803e-03 -1.07322041e-01\n",
      "  6.45065694e-01 -3.97638942e-06 -3.78654265e-03 -4.21314378e-01\n",
      " -4.34513755e-01]\n",
      "RMSE(scikit-learn linear model): 0.7241 cost: 0.2622\n"
     ]
    }
   ],
   "source": [
    "# The mean squared error\n",
    "w = np.zeros(X.shape[1] + 1)\n",
    "w[0] = lr.intercept_\n",
    "w[1:] = lr.coef_\n",
    "print('Weights:', w.ravel())\n",
    "print(\"RMSE(scikit-learn linear model): %.4f cost: %.4f\" % (rmse(y, y_pred), ((y_pred - y)**2).mean()/2))"
   ]
  },
  {
   "cell_type": "markdown",
   "metadata": {},
   "source": [
    "## Linear regression with multiple variables using TensorFlow"
   ]
  },
  {
   "cell_type": "code",
   "execution_count": 27,
   "metadata": {},
   "outputs": [
    {
     "name": "stderr",
     "output_type": "stream",
     "text": [
      "/Users/tsungmin/anaconda3/lib/python3.6/site-packages/h5py/__init__.py:36: FutureWarning: Conversion of the second argument of issubdtype from `float` to `np.floating` is deprecated. In future, it will be treated as `np.float64 == np.dtype(float).type`.\n",
      "  from ._conv import register_converters as _register_converters\n"
     ]
    }
   ],
   "source": [
    "import tensorflow as tf"
   ]
  },
  {
   "cell_type": "code",
   "execution_count": 28,
   "metadata": {},
   "outputs": [],
   "source": [
    "# Drop unnamed feature in X\n",
    "df = pd.read_csv('ex1data3.csv')\n",
    "X = df.iloc[:, 1:-1].values\n",
    "y = df.iloc[:, -1].values\n",
    "y = np.reshape(y, [-1, 1])\n",
    "\n",
    "# Normalize with Std\n",
    "scalar = StandardScaler()\n",
    "scalar.fit(X)\n",
    "X_norm = scalar.transform(X)\n",
    "\n",
    "# add bias term for X_norm\n",
    "bias = np.ones([len(y), 1])\n",
    "X_norm = np.hstack([bias, X_norm])"
   ]
  },
  {
   "cell_type": "markdown",
   "metadata": {},
   "source": [
    "### Prepare parameters for tensorflow"
   ]
  },
  {
   "cell_type": "code",
   "execution_count": 29,
   "metadata": {},
   "outputs": [],
   "source": [
    "m, n = X_norm.shape\n",
    "iterations = 3000\n",
    "eps = 1e-6\n",
    "\n",
    "# linear regression variables\n",
    "X_ = tf.placeholder(tf.float32, [None, n])\n",
    "y_ = tf.placeholder(tf.float32, [None, 1])\n",
    "alpha_ = tf.placeholder(tf.float32)\n",
    "w_ = tf.Variable(tf.zeros([n, 1]))"
   ]
  },
  {
   "cell_type": "markdown",
   "metadata": {},
   "source": [
    "### Define gradient descent flow"
   ]
  },
  {
   "cell_type": "code",
   "execution_count": 30,
   "metadata": {},
   "outputs": [],
   "source": [
    "# linear regression grad update step\n",
    "predict_ = tf.matmul(X_, w_)\n",
    "cost_ = tf.reduce_mean(tf.pow(predict_ - y_, 2)) / 2\n",
    "grad_ = tf.matmul(tf.transpose(X_), predict_ - y_) / tf.cast(tf.shape(X_)[0], tf.float32)\n",
    "w_update = tf.assign(w_, tf.reshape(w_ - alpha_ * grad_, [n, 1]))"
   ]
  },
  {
   "cell_type": "code",
   "execution_count": 31,
   "metadata": {},
   "outputs": [
    {
     "name": "stdout",
     "output_type": "stream",
     "text": [
      "\n",
      "------------------------------------------------------------------\n",
      "Weights: [ 2.068557    0.8394101   0.12325918 -0.27902788  0.31466272 -0.00299031\n",
      " -0.03991633 -0.85783315 -0.8293863 ]\n",
      "RMSE(tf gradient descent, alpha: 1e-01, iters:  480): 0.7242 cost: 0.2623\n",
      "\n",
      "------------------------------------------------------------------\n",
      "Weights: [ 2.0685463e+00  8.4330797e-01  1.3373768e-01 -2.6816055e-01\n",
      "  2.9765844e-01  7.7100657e-04 -4.0885840e-02 -7.7778834e-01\n",
      " -7.4891305e-01]\n",
      "RMSE(tf gradient descent, alpha: 1e-02, iters: 2943): 0.7254 cost: 0.2631\n",
      "\n",
      "------------------------------------------------------------------\n",
      "Weights: [ 1.9656222   0.7389285   0.18314275  0.0322236  -0.02679995  0.01075899\n",
      " -0.03909966 -0.23415434 -0.18704297]\n",
      "RMSE(tf gradient descent, alpha: 1e-03, iters: 3000): 0.7884 cost: 0.3108\n",
      "\n",
      "------------------------------------------------------------------\n",
      "Weights: [ 0.53600216  0.2037622   0.03531649  0.03907654 -0.01633948 -0.00615534\n",
      " -0.00760765 -0.04361201 -0.01820498]\n",
      "RMSE(tf gradient descent, alpha: 1e-04, iters: 3000): 1.8343 cost: 1.6824\n",
      "\n",
      "------------------------------------------------------------------\n",
      "Weights: [ 0.06111537  0.02343237  0.00364717  0.00510095 -0.00162653 -0.00082684\n",
      " -0.00081523 -0.00491739 -0.00162007]\n",
      "RMSE(tf gradient descent, alpha: 1e-05, iters: 3000): 2.3065 cost: 2.6600\n"
     ]
    }
   ],
   "source": [
    "with tf.Session() as sess:\n",
    "    init = tf.global_variables_initializer()\n",
    "    sess.run(init)\n",
    "    \n",
    "    learning_rates = [np.power(10.0, p) for p in np.arange(-1, -6, -1)]\n",
    "    for alpha in learning_rates:\n",
    "        feed_dict = {\n",
    "            X_: X_norm, \n",
    "            y_: y,\n",
    "            alpha_: alpha\n",
    "        }\n",
    "        ### linear regression \n",
    "        sess.run(tf.assign(w_, tf.zeros([n, 1])))\n",
    "        cost = np.zeros(iterations, np.float32)\n",
    "        cost[0] = sess.run(cost_, feed_dict)\n",
    "        for n_iter in np.arange(1, iterations):\n",
    "            _ = sess.run([w_update], feed_dict)\n",
    "            cost[n_iter] = sess.run(cost_, feed_dict)\n",
    "            #if n_iter % 50 == 0:\n",
    "            #    cost[n_iter] = sess.run(cost_, feed_dict)\n",
    "            #    print('cost[%4d]: %.8f' % (n_iter, cost[n_iter]))\n",
    "            if np.abs(cost[n_iter - 1] - cost[n_iter]) < eps:\n",
    "                cost = cost[:n_iter]\n",
    "                break\n",
    "        y_pred = sess.run(predict_, feed_dict)\n",
    "        print('\\n------------------------------------------------------------------')\n",
    "        print('Weights:', w_.eval().ravel())\n",
    "        print(\"RMSE(tf gradient descent, alpha: %.e, iters: %4d): %.4f cost: %.4f\" % \n",
    "              (alpha, len(cost), rmse(y, y_pred), cost[-1]))"
   ]
  }
 ],
 "metadata": {
  "kernelspec": {
   "display_name": "Python 3",
   "language": "python",
   "name": "python3"
  },
  "language_info": {
   "codemirror_mode": {
    "name": "ipython",
    "version": 3
   },
   "file_extension": ".py",
   "mimetype": "text/x-python",
   "name": "python",
   "nbconvert_exporter": "python",
   "pygments_lexer": "ipython3",
   "version": "3.6.4"
  }
 },
 "nbformat": 4,
 "nbformat_minor": 2
}
